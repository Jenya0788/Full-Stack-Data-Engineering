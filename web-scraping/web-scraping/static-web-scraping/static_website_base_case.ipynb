{
 "cells": [
  {
   "cell_type": "code",
   "execution_count": 1,
   "id": "0fdf6c87-2bd3-4c45-b8f7-d00ee2cb531e",
   "metadata": {},
   "outputs": [
    {
     "name": "stdout",
     "output_type": "stream",
     "text": [
      "“The world as we have created it is a process of our thinking. It cannot be changed without changing our thinking.” - Albert Einstein\n",
      "“It is our choices, Harry, that show what we truly are, far more than our abilities.” - J.K. Rowling\n",
      "“There are only two ways to live your life. One is as though nothing is a miracle. The other is as though everything is a miracle.” - Albert Einstein\n",
      "“The person, be it gentleman or lady, who has not pleasure in a good novel, must be intolerably stupid.” - Jane Austen\n",
      "“Imperfection is beauty, madness is genius and it's better to be absolutely ridiculous than absolutely boring.” - Marilyn Monroe\n",
      "“Try not to become a man of success. Rather become a man of value.” - Albert Einstein\n",
      "“It is better to be hated for what you are than to be loved for what you are not.” - André Gide\n",
      "“I have not failed. I've just found 10,000 ways that won't work.” - Thomas A. Edison\n",
      "“A woman is like a tea bag; you never know how strong it is until it's in hot water.” - Eleanor Roosevelt\n",
      "“A day without sunshine is like, you know, night.” - Steve Martin\n"
     ]
    }
   ],
   "source": [
    "# 🛠️ Import necessary libraries\n",
    "import requests           # ▶ To send HTTP requests and receive website data\n",
    "from lxml import etree     # ▶ To parse and navigate the HTML document with XPath\n",
    "\n",
    "# 🛠️ Step 1: Connect to the website and download the HTML (in bytes format)\n",
    "url = \"https://quotes.toscrape.com/\"\n",
    "headers = {\n",
    "    \"User-Agent\": \"Mozilla/5.0 (Windows NT 10.0; Win64; x64)\"  # ▶ Simulate a real browser request\n",
    "}\n",
    "\n",
    "response = requests.get(url, headers=headers)  # ▶ Send HTTP GET request\n",
    "\n",
    "# ✅ Check if the response is successful\n",
    "if response.status_code == 200:\n",
    "    html_bytes = response.content                  # ▶ Receive HTML response (in bytes)\n",
    "\n",
    "    # 🛠️ Step 2: Decode HTML bytes into a string\n",
    "    html_string = html_bytes.decode('utf-8')        # ▶ Decode the bytes into readable UTF-8 HTML text\n",
    "\n",
    "    # 🛠️ Step 3: Parse the HTML string into an etree object\n",
    "    tree = etree.HTML(html_string)                  # ▶ Parse the HTML text to build an ElementTree (DOM structure)\n",
    "\n",
    "    # 🛠️ Step 4: Locate and extract elements using XPath\n",
    "    # ▶ Find all quote texts using XPath:\n",
    "    quotes = tree.xpath('//div[@class=\"quote\"]/span[@class=\"text\"]/text()')\n",
    "\n",
    "    # ▶ Find all authors' names using XPath:\n",
    "    authors = tree.xpath('//div[@class=\"quote\"]/span/small[@class=\"author\"]/text()')\n",
    "\n",
    "    # 🛠️ Step 5: Save or display the extracted data\n",
    "    # ▶ Zip the quotes and authors together and print each pair\n",
    "    for quote, author in zip(quotes, authors):\n",
    "        print(f\"{quote} - {author}\")\n",
    "else:\n",
    "    print(f\"Failed to retrieve page. Status code: {response.status_code}\")\n"
   ]
  },
  {
   "cell_type": "code",
   "execution_count": null,
   "id": "bb5297f2-3a17-4c8d-bbf3-b7dedb63b8eb",
   "metadata": {},
   "outputs": [],
   "source": []
  }
 ],
 "metadata": {
  "kernelspec": {
   "display_name": "Python 3 (ipykernel)",
   "language": "python",
   "name": "python3"
  },
  "language_info": {
   "codemirror_mode": {
    "name": "ipython",
    "version": 3
   },
   "file_extension": ".py",
   "mimetype": "text/x-python",
   "name": "python",
   "nbconvert_exporter": "python",
   "pygments_lexer": "ipython3",
   "version": "3.12.4"
  }
 },
 "nbformat": 4,
 "nbformat_minor": 5
}
