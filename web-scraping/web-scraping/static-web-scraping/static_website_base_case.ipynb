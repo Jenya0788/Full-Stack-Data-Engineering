{
 "cells": [
  {
   "cell_type": "code",
   "execution_count": 1,
   "id": "aa13b3ce-8a5e-4970-bba9-d1647f3c9b60",
   "metadata": {},
   "outputs": [
    {
     "name": "stdout",
     "output_type": "stream",
     "text": [
      "“The world as we have created it is a process of our thinking. It cannot be changed without changing our thinking.” - Albert Einstein\n",
      "“It is our choices, Harry, that show what we truly are, far more than our abilities.” - J.K. Rowling\n",
      "“There are only two ways to live your life. One is as though nothing is a miracle. The other is as though everything is a miracle.” - Albert Einstein\n",
      "“The person, be it gentleman or lady, who has not pleasure in a good novel, must be intolerably stupid.” - Jane Austen\n",
      "“Imperfection is beauty, madness is genius and it's better to be absolutely ridiculous than absolutely boring.” - Marilyn Monroe\n",
      "“Try not to become a man of success. Rather become a man of value.” - Albert Einstein\n",
      "“It is better to be hated for what you are than to be loved for what you are not.” - André Gide\n",
      "“I have not failed. I've just found 10,000 ways that won't work.” - Thomas A. Edison\n",
      "“A woman is like a tea bag; you never know how strong it is until it's in hot water.” - Eleanor Roosevelt\n",
      "“A day without sunshine is like, you know, night.” - Steve Martin\n"
     ]
    }
   ],
   "source": [
    "import requests\n",
    "from lxml import etree"
   ]
  },
  {
   "cell_type": "code",
   "execution_count": 3,
   "id": "f2d57cbe-8149-4e3b-8037-dbe17698f09e",
   "metadata": {},
   "outputs": [],
   "source": [
    "# Step 1: Connect to the website and download HTML\n",
    "url = \"https://quotes.toscrape.com/\"   # Example static site\n",
    "headers = {\n",
    "    \"User-Agent\": \"Mozilla/5.0 (Windows NT 10.0; Win64; x64)\"\n",
    "}\n",
    "response = requests.get(url, headers=headers)\n",
    "html_content = response.content  # Get the raw HTML bytes"
   ]
  },
  {
   "cell_type": "code",
   "execution_count": 5,
   "id": "b6db21bc-737f-4258-a6c0-7b54df2fc6f7",
   "metadata": {},
   "outputs": [],
   "source": [
    "# Step 2: Parse the HTML content\n",
    "tree = etree.HTML(html_content)"
   ]
  },
  {
   "cell_type": "code",
   "execution_count": 7,
   "id": "df522926-e72f-4588-a231-ac48354b0d9d",
   "metadata": {},
   "outputs": [],
   "source": [
    "# Step 3: Locate and extract elements using XPath\n",
    "# Example: Extract all quotes and authors\n",
    "quotes = tree.xpath('//div[@class=\"quote\"]/span[@class=\"text\"]/text()')\n",
    "authors = tree.xpath('//div[@class=\"quote\"]/span/small[@class=\"author\"]/text()')\n"
   ]
  },
  {
   "cell_type": "code",
   "execution_count": null,
   "id": "d3d2b0cc-5bf4-4c36-a210-ad7f948cbd66",
   "metadata": {},
   "outputs": [],
   "source": [
    "# Step 4: Save or print the extracted data\n",
    "for quote, author in zip(quotes, authors):\n",
    "    print(f\"{quote} - {author}\")\n"
   ]
  }
 ],
 "metadata": {
  "kernelspec": {
   "display_name": "Python 3 (ipykernel)",
   "language": "python",
   "name": "python3"
  },
  "language_info": {
   "codemirror_mode": {
    "name": "ipython",
    "version": 3
   },
   "file_extension": ".py",
   "mimetype": "text/x-python",
   "name": "python",
   "nbconvert_exporter": "python",
   "pygments_lexer": "ipython3",
   "version": "3.12.4"
  }
 },
 "nbformat": 4,
 "nbformat_minor": 5
}
